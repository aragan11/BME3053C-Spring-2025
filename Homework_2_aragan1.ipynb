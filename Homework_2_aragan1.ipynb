{
  "nbformat": 4,
  "nbformat_minor": 0,
  "metadata": {
    "colab": {
      "provenance": [],
      "authorship_tag": "ABX9TyMWaKwF+8V0yFdMCMOD4f+h",
      "include_colab_link": true
    },
    "kernelspec": {
      "name": "python3",
      "display_name": "Python 3"
    },
    "language_info": {
      "name": "python"
    }
  },
  "cells": [
    {
      "cell_type": "markdown",
      "metadata": {
        "id": "view-in-github",
        "colab_type": "text"
      },
      "source": [
        "<a href=\"https://colab.research.google.com/github/aragan11/BME3053C-Spring-2025/blob/main/Homework_2_aragan1.ipynb\" target=\"_parent\"><img src=\"https://colab.research.google.com/assets/colab-badge.svg\" alt=\"Open In Colab\"/></a>"
      ]
    },
    {
      "cell_type": "code",
      "execution_count": 2,
      "metadata": {
        "colab": {
          "base_uri": "https://localhost:8080/"
        },
        "id": "2runn3RI1PbS",
        "outputId": "2a8a5d9c-2f09-4a4d-98fc-22e4d39a7ee0"
      },
      "outputs": [
        {
          "output_type": "stream",
          "name": "stdout",
          "text": [
            "Normalized Readings:  [0.0, 0.32075471698113206, 0.5849056603773585, 0.05660377358490566, 0.7924528301886793, 1.0, 0.1320754716981132, 0.6415094339622641]\n"
          ]
        }
      ],
      "source": [
        "bp_readings = [120, 137, 151, 123, 162, 173, 127, 154]\n",
        "\n",
        "def norm_values(bp_readings):\n",
        "  norm = []\n",
        "  min_value = min(bp_readings)\n",
        "  max_value = max(bp_readings)\n",
        "\n",
        "  for i in bp_readings:\n",
        "    norm_value = (i - min_value) / (max_value - min_value)\n",
        "    norm.append(norm_value)\n",
        "  return(norm)\n",
        "\n",
        "print('Normalized Readings: ', norm_values(bp_readings))"
      ]
    },
    {
      "cell_type": "code",
      "source": [],
      "metadata": {
        "id": "3PgCE3tT1XKv"
      },
      "execution_count": null,
      "outputs": []
    }
  ]
}