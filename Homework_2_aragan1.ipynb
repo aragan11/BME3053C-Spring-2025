{
  "nbformat": 4,
  "nbformat_minor": 0,
  "metadata": {
    "colab": {
      "provenance": [],
      "authorship_tag": "ABX9TyOLX6PBuKcU2YxpA8qeKVve",
      "include_colab_link": true
    },
    "kernelspec": {
      "name": "python3",
      "display_name": "Python 3"
    },
    "language_info": {
      "name": "python"
    }
  },
  "cells": [
    {
      "cell_type": "markdown",
      "metadata": {
        "id": "view-in-github",
        "colab_type": "text"
      },
      "source": [
        "<a href=\"https://colab.research.google.com/github/aragan11/BME3053C-Spring-2025/blob/main/Homework_2_aragan1.ipynb\" target=\"_parent\"><img src=\"https://colab.research.google.com/assets/colab-badge.svg\" alt=\"Open In Colab\"/></a>"
      ]
    },
    {
      "cell_type": "code",
      "execution_count": 6,
      "metadata": {
        "colab": {
          "base_uri": "https://localhost:8080/"
        },
        "id": "xgZ57ujhXI_6",
        "outputId": "817ecfec-d02a-4f18-e9f8-9e876e0e11d2"
      },
      "outputs": [
        {
          "output_type": "stream",
          "name": "stdout",
          "text": [
            "Number of peaks:  26\n"
          ]
        }
      ],
      "source": [
        "import math\n",
        "import random\n",
        "\n",
        "ppg_signal = [1000 + 100 * math.sin(0.1 * x) + random.randint(-20, 20) for x in range(100)]\n",
        "\n",
        "\n",
        "def peak_counter(ppg_values):\n",
        "  peak_number=0\n",
        "\n",
        "  for i in range(1,len(ppg_values)-1):\n",
        "    if (ppg_values[i] > ppg_values[i - 1]) and (ppg_values[i] > ppg_values[i + 1]):\n",
        "      peak_number += 1\n",
        "\n",
        "  return peak_number\n",
        "\n",
        "num_peaks = peak_counter(ppg_signal)\n",
        "print('Number of peaks: ', num_peaks)"
      ]
    }
  ]
}